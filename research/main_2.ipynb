{
 "cells": [
  {
   "cell_type": "code",
   "execution_count": 11,
   "metadata": {},
   "outputs": [],
   "source": [
    "from aif360.datasets import BinaryLabelDataset\n",
    "from aif360.metrics import ClassificationMetric, BinaryLabelDatasetMetric\n",
    "from aif360.algorithms.preprocessing import Reweighing\n",
    "from sklearn.model_selection import train_test_split\n",
    "from sklearn.ensemble import RandomForestClassifier\n",
    "import pandas as pd\n",
    "import numpy as np"
   ]
  },
  {
   "cell_type": "code",
   "execution_count": 12,
   "metadata": {},
   "outputs": [],
   "source": [
    "df = pd.read_csv(\"./Heart_dataset.csv\")"
   ]
  },
  {
   "cell_type": "code",
   "execution_count": 13,
   "metadata": {},
   "outputs": [
    {
     "data": {
      "text/plain": [
       "Text(0.5, 1.0, 'Sex')"
      ]
     },
     "execution_count": 13,
     "metadata": {},
     "output_type": "execute_result"
    },
    {
     "data": {
      "image/png": "[encoded data removed]",
      "text/plain": [
       "<Figure size 640x480 with 1 Axes>"
      ]
     },
     "metadata": {},
     "output_type": "display_data"
    }
   ],
   "source": [
    "import matplotlib.pyplot as plt\n",
    "\n",
    "counts = df[\"sex\"].value_counts()\n",
    "labels = counts.index\n",
    "\n",
    "# Plot pie chart\n",
    "plt.pie(counts, startangle=90)\n",
    "plt.legend(labels, loc=2, fontsize=15)\n",
    "plt.title(\"Sex\", size=20)"
   ]
  },
  {
   "cell_type": "code",
   "execution_count": null,
   "metadata": {},
   "outputs": [],
   "source": []
  },
  {
   "cell_type": "code",
   "execution_count": 14,
   "metadata": {},
   "outputs": [
    {
     "data": {
      "text/plain": [
       "56.0"
      ]
     },
     "execution_count": 14,
     "metadata": {},
     "output_type": "execute_result"
    }
   ],
   "source": [
    "age_threshold = df[\"age\"].median()\n",
    "age_threshold"
   ]
  },
  {
   "cell_type": "code",
   "execution_count": 15,
   "metadata": {},
   "outputs": [],
   "source": [
    "df[\"age_binary\"] = np.where(df[\"age\"] > age_threshold, 1, 0)"
   ]
  },
  {
   "cell_type": "code",
   "execution_count": 16,
   "metadata": {},
   "outputs": [
    {
     "data": {
      "image/png": "[encoded data removed]",
      "text/plain": [
       "<Figure size 640x480 with 1 Axes>"
      ]
     },
     "metadata": {},
     "output_type": "display_data"
    }
   ],
   "source": [
    "# Get population count by age\n",
    "counts = df[\"age_binary\"].value_counts()\n",
    "labels = counts.index\n",
    "\n",
    "# Plot pie chart\n",
    "plt.pie(counts, startangle=90)\n",
    "plt.legend(labels, loc=2, fontsize=15)\n",
    "plt.title(\"Age\", size=20)\n",
    "plt.show()"
   ]
  },
  {
   "cell_type": "code",
   "execution_count": 17,
   "metadata": {},
   "outputs": [],
   "source": [
    "unprivileged_groups = [{\"sex\": 0}]\n",
    "privileged_groups = [{\"sex\": 1}]"
   ]
  },
  {
   "cell_type": "code",
   "execution_count": 18,
   "metadata": {},
   "outputs": [],
   "source": [
    "#  BinaryLabelDataset DataFrame\n",
    "target_variable = \"target\"\n",
    "dataset = BinaryLabelDataset(\n",
    "    favorable_label=1,\n",
    "    unfavorable_label=0,\n",
    "    df=df,\n",
    "    label_names=[target_variable],\n",
    "    protected_attribute_names=[\"sex\", \"age_binary\"],\n",
    ")"
   ]
  },
  {
   "cell_type": "code",
   "execution_count": 19,
   "metadata": {},
   "outputs": [],
   "source": [
    "metric_orig = BinaryLabelDatasetMetric(\n",
    "    dataset,\n",
    "    unprivileged_groups=unprivileged_groups,\n",
    "    privileged_groups=privileged_groups,\n",
    ")"
   ]
  },
  {
   "cell_type": "code",
   "execution_count": 20,
   "metadata": {},
   "outputs": [
    {
     "name": "stdout",
     "output_type": "stream",
     "text": [
      "Original dataset metrics:\n",
      "Disparate Impact: 1.721559829059829\n",
      "Mean Difference: 0.3036016111051174\n"
     ]
    }
   ],
   "source": [
    "print(\"Original dataset metrics:\")\n",
    "print(f\"Disparate Impact: {metric_orig.disparate_impact()}\")\n",
    "print(f\"Mean Difference: {metric_orig.mean_difference()}\")"
   ]
  },
  {
   "cell_type": "code",
   "execution_count": 21,
   "metadata": {},
   "outputs": [],
   "source": [
    "# Use the Reweighing algorithm to mitigate bias\n",
    "RW = Reweighing(\n",
    "    unprivileged_groups=unprivileged_groups,\n",
    "    privileged_groups=privileged_groups,\n",
    ")\n",
    "dataset_transf = RW.fit_transform(dataset)"
   ]
  },
  {
   "cell_type": "code",
   "execution_count": 22,
   "metadata": {},
   "outputs": [
    {
     "name": "stdout",
     "output_type": "stream",
     "text": [
      "Transformed dataset metrics:\n",
      "Disparate Impact: 1.0\n",
      "Mean Difference: 0.0\n"
     ]
    }
   ],
   "source": [
    "from aif360.metrics import BinaryLabelDatasetMetric\n",
    "\n",
    "# Compute fairness metrics\n",
    "metric_transf = BinaryLabelDatasetMetric(\n",
    "    dataset_transf,\n",
    "    unprivileged_groups=unprivileged_groups,\n",
    "    privileged_groups=privileged_groups,\n",
    ")\n",
    "\n",
    "print(\"Transformed dataset metrics:\")\n",
    "print(f\"Disparate Impact: {metric_transf.disparate_impact()}\")\n",
    "print(f\"Mean Difference: {metric_transf.mean_difference()}\")"
   ]
  },
  {
   "cell_type": "code",
   "execution_count": 23,
   "metadata": {},
   "outputs": [],
   "source": [
    "from sklearn.model_selection import train_test_split\n",
    "from sklearn.ensemble import (\n",
    "    RandomForestClassifier,\n",
    "    GradientBoostingClassifier,\n",
    "    VotingClassifier,\n",
    ")\n",
    "from sklearn.tree import DecisionTreeClassifier\n",
    "from sklearn.metrics import accuracy_score, classification_report\n",
    "from sklearn.model_selection import StratifiedKFold"
   ]
  },
  {
   "cell_type": "code",
   "execution_count": 24,
   "metadata": {},
   "outputs": [],
   "source": [
    "# Split the transformed dataset into training and test sets\n",
    "X_train, X_test, y_train, y_test = train_test_split(\n",
    "    dataset_transf.features,\n",
    "    dataset_transf.labels.ravel(),\n",
    "    test_size=0.2,\n",
    "    random_state=0,\n",
    ")"
   ]
  },
  {
   "cell_type": "code",
   "execution_count": 25,
   "metadata": {},
   "outputs": [],
   "source": [
    "decision_tree_model = DecisionTreeClassifier(max_depth=5, min_samples_split=10)\n",
    "random_forest_model = RandomForestClassifier(n_estimators=100, max_depth=5)\n",
    "gradient_boosting_model = GradientBoostingClassifier(\n",
    "    n_estimators=100, learning_rate=0.1\n",
    ")"
   ]
  },
  {
   "cell_type": "code",
   "execution_count": 26,
   "metadata": {},
   "outputs": [],
   "source": [
    "voting_classifier = VotingClassifier(\n",
    "    estimators=[\n",
    "        (\"decision_tree\", decision_tree_model),\n",
    "        (\"random_forest\", random_forest_model),\n",
    "        (\"gradient_boosting\", gradient_boosting_model),\n",
    "    ],\n",
    "    voting=\"hard\",\n",
    ")"
   ]
  },
  {
   "cell_type": "code",
   "execution_count": 27,
   "metadata": {},
   "outputs": [],
   "source": [
    "clf = voting_classifier.fit(X_train, y_train)"
   ]
  },
  {
   "cell_type": "code",
   "execution_count": 28,
   "metadata": {},
   "outputs": [],
   "source": [
    "y_pred = clf.predict(X_test)"
   ]
  },
  {
   "cell_type": "code",
   "execution_count": 29,
   "metadata": {},
   "outputs": [
    {
     "name": "stdout",
     "output_type": "stream",
     "text": [
      "Accuracy: 0.96\n"
     ]
    }
   ],
   "source": [
    "accuracy = accuracy_score(y_test, y_pred)\n",
    "print(f\"Accuracy: {accuracy:.2f}\")"
   ]
  },
  {
   "cell_type": "code",
   "execution_count": 30,
   "metadata": {},
   "outputs": [
    {
     "name": "stdout",
     "output_type": "stream",
     "text": [
      "\n",
      "Classification Report:\n",
      "              precision    recall  f1-score   support\n",
      "\n",
      "         0.0       0.99      0.92      0.95        98\n",
      "         1.0       0.93      0.99      0.96       107\n",
      "\n",
      "    accuracy                           0.96       205\n",
      "   macro avg       0.96      0.95      0.96       205\n",
      "weighted avg       0.96      0.96      0.96       205\n",
      "\n"
     ]
    }
   ],
   "source": [
    "print(\"\\nClassification Report:\")\n",
    "print(classification_report(y_test, y_pred))"
   ]
  },
  {
   "cell_type": "code",
   "execution_count": 31,
   "metadata": {},
   "outputs": [
    {
     "name": "stdout",
     "output_type": "stream",
     "text": [
      "\n",
      "Sample Predictions:\n",
      "Sample 1:\n",
      "  Features: [ 44.    1.    2.  130.  233.    0.    1.  179.    1.    0.4   2.    0.\n",
      "   2.    0. ]\n",
      "  Label: 1.0\n",
      "  Prediction: 1.0\n",
      "\n",
      "Sample 2:\n",
      "  Features: [ 58.   0.   1. 136. 319.   1.   0. 152.   0.   0.   2.   2.   2.   1.]\n",
      "  Label: 0.0\n",
      "  Prediction: 1.0\n",
      "\n",
      "Sample 3:\n",
      "  Features: [ 63.   1.   0. 140. 187.   0.   0. 144.   1.   4.   2.   2.   3.   1.]\n",
      "  Label: 0.0\n",
      "  Prediction: 0.0\n",
      "\n",
      "Sample 4:\n",
      "  Features: [ 58.   1.   2. 140. 211.   1.   0. 165.   0.   0.   2.   0.   2.   1.]\n",
      "  Label: 1.0\n",
      "  Prediction: 1.0\n",
      "\n",
      "Sample 5:\n",
      "  Features: [ 61.    1.    0.  120.  260.    0.    1.  140.    1.    3.6   1.    1.\n",
      "   3.    1. ]\n",
      "  Label: 0.0\n",
      "  Prediction: 0.0\n",
      "\n"
     ]
    }
   ],
   "source": [
    "# test the model on sample test data\n",
    "sample_data = X_test[:5]\n",
    "sample_labels = y_test[:5]\n",
    "sample_pred = clf.predict(sample_data)\n",
    "\n",
    "print(\"\\nSample Predictions:\")\n",
    "for i, (sample, label, pred) in enumerate(zip(sample_data, sample_labels, sample_pred)):\n",
    "    print(f\"Sample {i + 1}:\")\n",
    "    print(f\"  Features: {sample}\")\n",
    "    print(f\"  Label: {label}\")\n",
    "    print(f\"  Prediction: {pred}\")\n",
    "    print()"
   ]
  },
  {
   "cell_type": "code",
   "execution_count": 32,
   "metadata": {},
   "outputs": [
    {
     "data": {
      "text/plain": [
       "               instance weights features                                    \\\n",
       "                                         protected attribute                 \n",
       "                                     age                 sex   cp trestbps   \n",
       "instance names                                                               \n",
       "0                      0.840458     52.0                 1.0  0.0    125.0   \n",
       "1                      0.840458     53.0                 1.0  0.0    140.0   \n",
       "2                      0.840458     70.0                 1.0  0.0    145.0   \n",
       "3                      0.840458     61.0                 1.0  0.0    148.0   \n",
       "4                      1.766171     62.0                 0.0  0.0    138.0   \n",
       "...                         ...      ...                 ...  ...      ...   \n",
       "1020                   1.219636     59.0                 1.0  1.0    140.0   \n",
       "1021                   0.840458     60.0                 1.0  0.0    125.0   \n",
       "1022                   0.840458     47.0                 1.0  0.0    110.0   \n",
       "1023                   0.708448     50.0                 0.0  0.0    110.0   \n",
       "1024                   0.840458     54.0                 1.0  0.0    120.0   \n",
       "\n",
       "                                                                          \\\n",
       "                                                                           \n",
       "                 chol  fbs restecg thalach exang oldpeak slope   ca thal   \n",
       "instance names                                                             \n",
       "0               212.0  0.0     1.0   168.0   0.0     1.0   2.0  2.0  3.0   \n",
       "1               203.0  1.0     0.0   155.0   1.0     3.1   0.0  0.0  3.0   \n",
       "2               174.0  0.0     1.0   125.0   1.0     2.6   0.0  0.0  3.0   \n",
       "3               203.0  0.0     1.0   161.0   0.0     0.0   2.0  1.0  3.0   \n",
       "4               294.0  1.0     1.0   106.0   0.0     1.9   1.0  3.0  2.0   \n",
       "...               ...  ...     ...     ...   ...     ...   ...  ...  ...   \n",
       "1020            221.0  0.0     1.0   164.0   1.0     0.0   2.0  0.0  2.0   \n",
       "1021            258.0  0.0     0.0   141.0   1.0     2.8   1.0  1.0  3.0   \n",
       "1022            275.0  0.0     0.0   118.0   1.0     1.0   1.0  1.0  2.0   \n",
       "1023            254.0  0.0     0.0   159.0   0.0     0.0   2.0  0.0  2.0   \n",
       "1024            188.0  0.0     1.0   113.0   0.0     1.4   1.0  1.0  3.0   \n",
       "\n",
       "                                   labels  \n",
       "               protected attribute         \n",
       "                        age_binary         \n",
       "instance names                             \n",
       "0                              0.0    0.0  \n",
       "1                              0.0    0.0  \n",
       "2                              1.0    0.0  \n",
       "3                              1.0    0.0  \n",
       "4                              1.0    0.0  \n",
       "...                            ...    ...  \n",
       "1020                           1.0    1.0  \n",
       "1021                           1.0    0.0  \n",
       "1022                           0.0    0.0  \n",
       "1023                           0.0    1.0  \n",
       "1024                           0.0    0.0  \n",
       "\n",
       "[1025 rows x 16 columns]"
      ]
     },
     "execution_count": 32,
     "metadata": {},
     "output_type": "execute_result"
    }
   ],
   "source": [
    "dataset_transf"
   ]
  }
 ],
 "metadata": {
  "kernelspec": {
   "display_name": "Python 3",
   "language": "python",
   "name": "python3"
  },
  "language_info": {
   "codemirror_mode": {
    "name": "ipython",
    "version": 3
   },
   "file_extension": ".py",
   "mimetype": "text/x-python",
   "name": "python",
   "nbconvert_exporter": "python",
   "pygments_lexer": "ipython3",
   "version": "3.11.5"
  }
 },
 "nbformat": 4,
 "nbformat_minor": 2
}
